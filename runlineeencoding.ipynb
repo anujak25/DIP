{
 "cells": [
  {
   "cell_type": "code",
   "execution_count": 7,
   "metadata": {},
   "outputs": [
    {
     "name": "stdout",
     "output_type": "stream",
     "text": [
      "a1k1\n"
     ]
    }
   ],
   "source": [
    "from collections import OrderedDict \n",
    "def runLengthEncoding(input): \n",
    "  \n",
    "    # Generate ordered dictionary of all lower \n",
    "    # case alphabets, its output will be  \n",
    "    # dict = {'w':0, 'a':0, 'd':0, 'e':0, 'x':0} \n",
    "    dict=OrderedDict.fromkeys(input, 0) \n",
    "  \n",
    "    # Now iterate through input string to calculate  \n",
    "    # frequency of each character, its output will be  \n",
    "    # dict = {'w':4,'a':3,'d':1,'e':1,'x':6} \n",
    "    for ch in input: \n",
    "        dict[ch] += 1\n",
    "  \n",
    "    # now iterate through dictionary to make  \n",
    "    # output string from (key,value) pairs \n",
    "    output = '' \n",
    "    for key,value in dict.items(): \n",
    "         output = output + key + str(value) \n",
    "    return output \n",
    "   \n",
    "# Driver function \n",
    "if __name__ == \"__main__\": \n",
    "    input='wwwwaaadexxxxxx'\n",
    "    print (runLengthEncoding('ak') )\n",
    "    "
   ]
  },
  {
   "cell_type": "code",
   "execution_count": null,
   "metadata": {},
   "outputs": [],
   "source": []
  }
 ],
 "metadata": {
  "kernelspec": {
   "display_name": "Python 3",
   "language": "python",
   "name": "python3"
  },
  "language_info": {
   "codemirror_mode": {
    "name": "ipython",
    "version": 3
   },
   "file_extension": ".py",
   "mimetype": "text/x-python",
   "name": "python",
   "nbconvert_exporter": "python",
   "pygments_lexer": "ipython3",
   "version": "3.7.1"
  }
 },
 "nbformat": 4,
 "nbformat_minor": 2
}
