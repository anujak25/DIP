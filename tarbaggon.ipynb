{
 "cells": [
  {
   "cell_type": "code",
   "execution_count": 2,
   "metadata": {},
   "outputs": [
    {
     "name": "stdout",
     "output_type": "stream",
     "text": [
      "[[7. 7. 7. 2.]\n",
      " [7. 7. 7. 2.]\n",
      " [7. 7. 2. 2.]\n",
      " [0. 0. 2. 2.]]\n"
     ]
    }
   ],
   "source": [
    "\n",
    "import numpy as np\n",
    "\n",
    "T=[[0,0,0,0,0,0],[0,12,14,23,13,0],[0,16,11,21,18,0],[0,21,24,23,12,0],[0,12,21,20,10,0],[0,0,0,0,0,0]]\n",
    "img0=[[4,4,3,2],[3,7,6,1],[2,7,6,2],[0,1,0,2]]\n",
    "img_final=np.zeros((4,4))\n",
    "for i in range(1,5):\n",
    "    for j in range(1,5):\n",
    "        l_min=1000\n",
    "        for m in range(-1,2):\n",
    "            for n in range(-1,2):\n",
    "                    if(T[i+m][j+n]<l_min) and T[i+m][j+n]!=0:\n",
    "                        l_min=T[i+m][j+n]\n",
    "                        t=img0[m+i-1][j+n-1]\n",
    "                        img_final[i-1][j-1]=t\n",
    "                        \n",
    "print(img_final)"
   ]
  },
  {
   "cell_type": "code",
   "execution_count": null,
   "metadata": {},
   "outputs": [],
   "source": []
  }
 ],
 "metadata": {
  "kernelspec": {
   "display_name": "Python 3",
   "language": "python",
   "name": "python3"
  },
  "language_info": {
   "codemirror_mode": {
    "name": "ipython",
    "version": 3
   },
   "file_extension": ".py",
   "mimetype": "text/x-python",
   "name": "python",
   "nbconvert_exporter": "python",
   "pygments_lexer": "ipython3",
   "version": "3.7.1"
  }
 },
 "nbformat": 4,
 "nbformat_minor": 2
}
