{
 "cells": [
  {
   "cell_type": "code",
   "execution_count": 5,
   "metadata": {},
   "outputs": [
    {
     "name": "stdout",
     "output_type": "stream",
     "text": [
      "1 2 4 7 5 3 6 8 9 "
     ]
    }
   ],
   "source": [
    "# Program to print matrix in Zig-zag pattern \n",
    "\n",
    "matrix =[ \n",
    "\t\t\t[ 1, 2, 3,], \n",
    "\t\t\t[ 4, 5, 6 ], \n",
    "\t\t\t[ 7, 8, 9 ], \n",
    "\t\t] \n",
    "rows=3\n",
    "columns=3\n",
    "\t\n",
    "solution=[[] for i in range(rows+columns-1)] \n",
    "\n",
    "for i in range(rows): \n",
    "\tfor j in range(columns): \n",
    "\t\tsum=i+j \n",
    "\t\tif(sum%2 ==0): \n",
    "\n",
    "\t\t\t#add at beginning \n",
    "\t\t\tsolution[sum].insert(0,matrix[i][j]) \n",
    "\t\telse: \n",
    "\n",
    "\t\t\t#add at end of the list \n",
    "\t\t\tsolution[sum].append(matrix[i][j]) \n",
    "\t\t\n",
    "\t\t\t\n",
    "# print the solution as it as \n",
    "for i in solution: \n",
    "\tfor j in i: \n",
    "\t\tprint(j,end=\" \") \n",
    "\t\t\n",
    "\n"
   ]
  },
  {
   "cell_type": "code",
   "execution_count": null,
   "metadata": {},
   "outputs": [],
   "source": []
  }
 ],
 "metadata": {
  "kernelspec": {
   "display_name": "Python 3",
   "language": "python",
   "name": "python3"
  },
  "language_info": {
   "codemirror_mode": {
    "name": "ipython",
    "version": 3
   },
   "file_extension": ".py",
   "mimetype": "text/x-python",
   "name": "python",
   "nbconvert_exporter": "python",
   "pygments_lexer": "ipython3",
   "version": "3.7.1"
  }
 },
 "nbformat": 4,
 "nbformat_minor": 2
}
